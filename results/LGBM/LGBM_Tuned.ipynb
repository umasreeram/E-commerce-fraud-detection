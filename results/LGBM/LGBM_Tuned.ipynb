{
 "cells": [
  {
   "cell_type": "markdown",
   "metadata": {},
   "source": [
    "# LGBM Classifier"
   ]
  },
  {
   "cell_type": "markdown",
   "metadata": {},
   "source": [
    "### Data Preprocessing\n",
    "\n",
    "\n",
    "1) Preprocessing applied to all files: - Features with > 90% data missing or > 90% data with the same value were dropped - If possible, categorical variables with 100s of categories were mapped to coaser categoricals - Correlation plot analysis done on \"V\" columns and columns were dropped reduce collinearlity - https://www.kaggle.com/cdeotte/eda-for-columns-v-and-id - Some \"D\" columns were normalized for time - Aggregate features were added using \"magic\" technique - https://www.kaggle.com/cdeotte/xgb-fraud-with-magic-0-9600#How-the-Magic-Works - Dropped TransactionID and TransactionDT\n",
    "\n",
    "2) Specific preprocessing applied based on classifiers:\n",
    "\n",
    "#### Response variable\n",
    "y_train.pkl\n",
    "- contains binary fraud/notfraud response for training dataset\n",
    "\n",
    "#### cleanLGBM.zip\n",
    "\n",
    "LGBM_{train, test}_X_1.pkl\n",
    "\n",
    "- Full 200 features from output of 1) above\n",
    "- No dummy creation\n",
    "    \n",
    "LGBM_{train, test}_X_2.pkl\n",
    "\n",
    "- Removed additional features\n",
    "        - Highly correlated \"C\", \"D\" features\n",
    "        - Removed features Chris (1st place winners) removed\n",
    "        - Removed caterogical features withh 200+ categories even after 1)\n",
    "- No dummy creation\n",
    "    \n",
    "LGBM_{train, test}_X_3.pkl\n",
    "\n",
    "- Exact same as LGBM_{train, test}_X_1.pkl except NAs filled with -999\n",
    "    \n",
    "LGBM_{train, test}_X_4.pkl\n",
    "\n",
    "- Exact same as LGBM_{train, test}_X_2.pkl except NAs filled with -999"
   ]
  },
  {
   "cell_type": "markdown",
   "metadata": {},
   "source": [
    "# # Part A: Data loading and preprocessing"
   ]
  },
  {
   "cell_type": "code",
   "execution_count": 65,
   "metadata": {},
   "outputs": [],
   "source": [
    "import numpy as np\n",
    "import pandas as pd\n",
    "from sklearn import preprocessing\n",
    "import lightgbm as lgb\n",
    "import matplotlib.pyplot as plt\n",
    "import seaborn as sns\n",
    "import pickle\n",
    "from sklearn.model_selection import train_test_split, cross_validate, KFold, TimeSeriesSplit\n",
    "from sklearn.metrics import accuracy_score, roc_auc_score, roc_curve, confusion_matrix, make_scorer, classification_report"
   ]
  },
  {
   "cell_type": "code",
   "execution_count": 66,
   "metadata": {},
   "outputs": [],
   "source": [
    "# Response isFraud for training data\n",
    "trainY_data = pickle.load(open('train_y.pkl','rb'))"
   ]
  },
  {
   "cell_type": "code",
   "execution_count": 67,
   "metadata": {},
   "outputs": [],
   "source": [
    "# Full 200 features with categorical features\n",
    "trainX1_data = pickle.load(open('LGBM_train_X_1.pkl','rb'))"
   ]
  },
  {
   "cell_type": "code",
   "execution_count": 68,
   "metadata": {},
   "outputs": [],
   "source": [
    "# Full 200 features without categorical features\n",
    "trainX2_data = pickle.load(open('LGBM_train_X_2.pkl','rb'))"
   ]
  },
  {
   "cell_type": "code",
   "execution_count": 69,
   "metadata": {},
   "outputs": [
    {
     "data": {
      "text/plain": [
       "((590540, 200), (590540, 171), (590540,))"
      ]
     },
     "execution_count": 69,
     "metadata": {},
     "output_type": "execute_result"
    }
   ],
   "source": [
    "trainX1_data.shape, trainX2_data.shape, trainY_data.shape"
   ]
  },
  {
   "cell_type": "code",
   "execution_count": 70,
   "metadata": {},
   "outputs": [
    {
     "data": {
      "text/plain": [
       "0    0\n",
       "1    0\n",
       "2    0\n",
       "3    0\n",
       "4    0\n",
       "Name: isFraud, dtype: int64"
      ]
     },
     "execution_count": 70,
     "metadata": {},
     "output_type": "execute_result"
    }
   ],
   "source": [
    "trainY_data.head()"
   ]
  },
  {
   "cell_type": "markdown",
   "metadata": {},
   "source": [
    "### Data format conversion to LGBM \n",
    "\n",
    "Converting Category objects in the dataset to Category "
   ]
  },
  {
   "cell_type": "code",
   "execution_count": 71,
   "metadata": {},
   "outputs": [
    {
     "name": "stdout",
     "output_type": "stream",
     "text": [
      "<class 'pandas.core.frame.DataFrame'>\n",
      "Int64Index: 590540 entries, 0 to 590539\n",
      "Columns: 200 entries, id_01 to D11_card1_addr1_P_emaildomain_std\n",
      "dtypes: category(29), float32(26), float64(142), int32(2), int64(1)\n",
      "memory usage: 729.4 MB\n"
     ]
    }
   ],
   "source": [
    "for c in trainX1_data.columns:\n",
    "    col_type = trainX1_data[c].dtype\n",
    "    if col_type == 'object' or col_type.name == 'category':\n",
    "        trainX1_data[c] = trainX1_data[c].astype('category')\n",
    "trainX1_data.info()"
   ]
  },
  {
   "cell_type": "code",
   "execution_count": 72,
   "metadata": {},
   "outputs": [
    {
     "name": "stdout",
     "output_type": "stream",
     "text": [
      "<class 'pandas.core.frame.DataFrame'>\n",
      "Int64Index: 590540 entries, 0 to 590539\n",
      "Columns: 171 entries, id_01 to D11_card1_addr1_P_emaildomain_std\n",
      "dtypes: category(20), float32(26), float64(122), int32(2), int64(1)\n",
      "memory usage: 633.0 MB\n"
     ]
    }
   ],
   "source": [
    "for c in trainX2_data.columns:\n",
    "    col_type = trainX2_data[c].dtype\n",
    "    if col_type == 'object' or col_type.name == 'category':\n",
    "        trainX2_data[c] = trainX2_data[c].astype('category')\n",
    "trainX2_data.info()"
   ]
  },
  {
   "cell_type": "markdown",
   "metadata": {},
   "source": [
    "Fitting the base model using train_test_split. "
   ]
  },
  {
   "cell_type": "code",
   "execution_count": 73,
   "metadata": {},
   "outputs": [],
   "source": [
    "# Splitting the dataset into the Training set and Test set\n",
    "seed = 123\n",
    "test_size = 0.3\n",
    "X1_train, X1_test, y1_train, y1_test = train_test_split(trainX1_data, trainY_data, test_size = test_size, random_state = seed)"
   ]
  },
  {
   "cell_type": "code",
   "execution_count": 74,
   "metadata": {},
   "outputs": [],
   "source": [
    "# Splitting the dataset into the Training set and Test set\n",
    "X2_train, X2_test, y2_train, y2_test = train_test_split(trainX2_data, trainY_data, test_size = test_size, random_state = seed)"
   ]
  },
  {
   "cell_type": "markdown",
   "metadata": {},
   "source": [
    "## Part B: Hyperparameter Tuning"
   ]
  },
  {
   "cell_type": "code",
   "execution_count": 123,
   "metadata": {},
   "outputs": [],
   "source": [
    "from skopt import BayesSearchCV\n",
    "from skopt.space import Real, Categorical, Integer\n",
    "from sklearn.model_selection import StratifiedKFold\n",
    "from skopt import gp_minimize\n",
    "from sklearn.model_selection import ShuffleSplit"
   ]
  },
  {
   "cell_type": "code",
   "execution_count": 124,
   "metadata": {},
   "outputs": [],
   "source": [
    "# define classifier\n",
    "estimator = lgb.LGBMClassifier(\n",
    "        objective = 'binary',\n",
    "        metric = 'auc',\n",
    "        boosting_type = \"gbdt\",\n",
    "        )"
   ]
  },
  {
   "cell_type": "code",
   "execution_count": 131,
   "metadata": {},
   "outputs": [],
   "source": [
    "# define hyperparameter space\n",
    "search_spaces = {\n",
    "            'learning_rate': (0.01, 1.0, 'log-uniform'),\n",
    "            'num_leaves': Integer(100, 700),\n",
    "            'max_depth': Integer(5, 500),\n",
    "            'colsample_bytree': (0.01, 1.0, 'uniform'),\n",
    "            'subsample': (0.01, 1.0, 'uniform'),\n",
    "            'min_data_in_leaf': Integer(5,200),\n",
    "            'min_child_weight': (0.1, 10),\n",
    "            'n_estimators': Integer(10, 10000),\n",
    "            'reg_alpha': (1e-7, 1000, 'log-uniform'),\n",
    "            'reg_lambda': (1e-7, 1000, 'log-uniform')                \n",
    "    }"
   ]
  },
  {
   "cell_type": "code",
   "execution_count": 132,
   "metadata": {},
   "outputs": [],
   "source": [
    "cv = ShuffleSplit(test_size=test_size,train_size = 1-test_size, n_splits=1, random_state = 123)"
   ]
  },
  {
   "cell_type": "code",
   "execution_count": 136,
   "metadata": {},
   "outputs": [],
   "source": [
    "lgb_tuner = BayesSearchCV(estimator = estimator, search_spaces = search_spaces, scoring = 'roc_auc',cv = cv,  n_iter = 9, verbose =1, refit = True, random_state = seed)"
   ]
  },
  {
   "cell_type": "code",
   "execution_count": 137,
   "metadata": {},
   "outputs": [],
   "source": [
    "def status_print(optim_result):    \n",
    "    all_models = pd.DataFrame(lgb_tuner.cv_results_)    \n",
    "    \n",
    "    # Get best parameters    \n",
    "    best_params = pd.Series(lgb_tuner.best_params_)\n",
    "    print(f'Model {len(all_models)}:\\nBest Score:\\\n",
    "    {np.round(lgb_tuner.best_score_, 4)}\\nBestparams:{lgb_tuner.best_params_}\\n')\n",
    "    \n",
    "    # Save to csv\n",
    "    clf_name = lgb_tuner.estimator.__class__.__name__\n",
    "    all_models.to_csv(clf_name+\"_cv_results.csv\")  "
   ]
  },
  {
   "cell_type": "code",
   "execution_count": 138,
   "metadata": {
    "scrolled": false
   },
   "outputs": [
    {
     "name": "stdout",
     "output_type": "stream",
     "text": [
      "Fitting 1 folds for each of 1 candidates, totalling 1 fits\n"
     ]
    },
    {
     "name": "stderr",
     "output_type": "stream",
     "text": [
      "[Parallel(n_jobs=1)]: Using backend SequentialBackend with 1 concurrent workers.\n",
      "[Parallel(n_jobs=1)]: Done   1 out of   1 | elapsed:  4.2min finished\n",
      "[Parallel(n_jobs=1)]: Using backend SequentialBackend with 1 concurrent workers.\n"
     ]
    },
    {
     "name": "stdout",
     "output_type": "stream",
     "text": [
      "Model 1:\n",
      "Best Score:    0.8801\n",
      "Bestparams:OrderedDict([('colsample_bytree', 0.8601068320616704), ('learning_rate', 0.05435602973134512), ('max_depth', 48), ('min_child_weight', 4.688289424522031), ('min_data_in_leaf', 127), ('n_estimators', 1347), ('num_leaves', 332), ('reg_alpha', 767), ('reg_lambda', 125), ('subsample', 0.7123773547917213)])\n",
      "\n",
      "Fitting 1 folds for each of 1 candidates, totalling 1 fits\n"
     ]
    },
    {
     "name": "stderr",
     "output_type": "stream",
     "text": [
      "[Parallel(n_jobs=1)]: Done   1 out of   1 | elapsed:  6.9min finished\n",
      "[Parallel(n_jobs=1)]: Using backend SequentialBackend with 1 concurrent workers.\n"
     ]
    },
    {
     "name": "stdout",
     "output_type": "stream",
     "text": [
      "Model 2:\n",
      "Best Score:    0.9417\n",
      "Bestparams:OrderedDict([('colsample_bytree', 0.9925929263254571), ('learning_rate', 0.33587374758460675), ('max_depth', 419), ('min_child_weight', 0.33436455315174696), ('min_data_in_leaf', 101), ('n_estimators', 1830), ('num_leaves', 469), ('reg_alpha', 57), ('reg_lambda', 873), ('subsample', 0.6538516484960257)])\n",
      "\n",
      "Fitting 1 folds for each of 1 candidates, totalling 1 fits\n"
     ]
    },
    {
     "name": "stderr",
     "output_type": "stream",
     "text": [
      "[Parallel(n_jobs=1)]: Done   1 out of   1 | elapsed:  1.3min finished\n",
      "[Parallel(n_jobs=1)]: Using backend SequentialBackend with 1 concurrent workers.\n"
     ]
    },
    {
     "name": "stdout",
     "output_type": "stream",
     "text": [
      "Model 3:\n",
      "Best Score:    0.9417\n",
      "Bestparams:OrderedDict([('colsample_bytree', 0.9925929263254571), ('learning_rate', 0.33587374758460675), ('max_depth', 419), ('min_child_weight', 0.33436455315174696), ('min_data_in_leaf', 101), ('n_estimators', 1830), ('num_leaves', 469), ('reg_alpha', 57), ('reg_lambda', 873), ('subsample', 0.6538516484960257)])\n",
      "\n",
      "Fitting 1 folds for each of 1 candidates, totalling 1 fits\n"
     ]
    },
    {
     "name": "stderr",
     "output_type": "stream",
     "text": [
      "[Parallel(n_jobs=1)]: Done   1 out of   1 | elapsed:  7.7min finished\n",
      "[Parallel(n_jobs=1)]: Using backend SequentialBackend with 1 concurrent workers.\n"
     ]
    },
    {
     "name": "stdout",
     "output_type": "stream",
     "text": [
      "Model 4:\n",
      "Best Score:    0.9417\n",
      "Bestparams:OrderedDict([('colsample_bytree', 0.9925929263254571), ('learning_rate', 0.33587374758460675), ('max_depth', 419), ('min_child_weight', 0.33436455315174696), ('min_data_in_leaf', 101), ('n_estimators', 1830), ('num_leaves', 469), ('reg_alpha', 57), ('reg_lambda', 873), ('subsample', 0.6538516484960257)])\n",
      "\n",
      "Fitting 1 folds for each of 1 candidates, totalling 1 fits\n"
     ]
    },
    {
     "name": "stderr",
     "output_type": "stream",
     "text": [
      "[Parallel(n_jobs=1)]: Done   1 out of   1 | elapsed:  6.0min finished\n",
      "[Parallel(n_jobs=1)]: Using backend SequentialBackend with 1 concurrent workers.\n"
     ]
    },
    {
     "name": "stdout",
     "output_type": "stream",
     "text": [
      "Model 5:\n",
      "Best Score:    0.9417\n",
      "Bestparams:OrderedDict([('colsample_bytree', 0.9925929263254571), ('learning_rate', 0.33587374758460675), ('max_depth', 419), ('min_child_weight', 0.33436455315174696), ('min_data_in_leaf', 101), ('n_estimators', 1830), ('num_leaves', 469), ('reg_alpha', 57), ('reg_lambda', 873), ('subsample', 0.6538516484960257)])\n",
      "\n",
      "Fitting 1 folds for each of 1 candidates, totalling 1 fits\n"
     ]
    },
    {
     "name": "stderr",
     "output_type": "stream",
     "text": [
      "[Parallel(n_jobs=1)]: Done   1 out of   1 | elapsed:  2.7min finished\n",
      "[Parallel(n_jobs=1)]: Using backend SequentialBackend with 1 concurrent workers.\n"
     ]
    },
    {
     "name": "stdout",
     "output_type": "stream",
     "text": [
      "Model 6:\n",
      "Best Score:    0.9417\n",
      "Bestparams:OrderedDict([('colsample_bytree', 0.9925929263254571), ('learning_rate', 0.33587374758460675), ('max_depth', 419), ('min_child_weight', 0.33436455315174696), ('min_data_in_leaf', 101), ('n_estimators', 1830), ('num_leaves', 469), ('reg_alpha', 57), ('reg_lambda', 873), ('subsample', 0.6538516484960257)])\n",
      "\n",
      "Fitting 1 folds for each of 1 candidates, totalling 1 fits\n"
     ]
    },
    {
     "name": "stderr",
     "output_type": "stream",
     "text": [
      "[Parallel(n_jobs=1)]: Done   1 out of   1 | elapsed:  9.2min finished\n",
      "[Parallel(n_jobs=1)]: Using backend SequentialBackend with 1 concurrent workers.\n"
     ]
    },
    {
     "name": "stdout",
     "output_type": "stream",
     "text": [
      "Model 7:\n",
      "Best Score:    0.965\n",
      "Bestparams:OrderedDict([('colsample_bytree', 0.7604552944997698), ('learning_rate', 0.1641655036765839), ('max_depth', 481), ('min_child_weight', 1.0184808924538276), ('min_data_in_leaf', 120), ('n_estimators', 607), ('num_leaves', 615), ('reg_alpha', 3), ('reg_lambda', 878), ('subsample', 0.7416961993621997)])\n",
      "\n",
      "Fitting 1 folds for each of 1 candidates, totalling 1 fits\n"
     ]
    },
    {
     "name": "stderr",
     "output_type": "stream",
     "text": [
      "[Parallel(n_jobs=1)]: Done   1 out of   1 | elapsed: 22.1min finished\n",
      "[Parallel(n_jobs=1)]: Using backend SequentialBackend with 1 concurrent workers.\n"
     ]
    },
    {
     "name": "stdout",
     "output_type": "stream",
     "text": [
      "Model 8:\n",
      "Best Score:    0.965\n",
      "Bestparams:OrderedDict([('colsample_bytree', 0.7604552944997698), ('learning_rate', 0.1641655036765839), ('max_depth', 481), ('min_child_weight', 1.0184808924538276), ('min_data_in_leaf', 120), ('n_estimators', 607), ('num_leaves', 615), ('reg_alpha', 3), ('reg_lambda', 878), ('subsample', 0.7416961993621997)])\n",
      "\n",
      "Fitting 1 folds for each of 1 candidates, totalling 1 fits\n"
     ]
    },
    {
     "name": "stderr",
     "output_type": "stream",
     "text": [
      "[Parallel(n_jobs=1)]: Done   1 out of   1 | elapsed:  3.7min finished\n"
     ]
    },
    {
     "name": "stdout",
     "output_type": "stream",
     "text": [
      "Model 9:\n",
      "Best Score:    0.965\n",
      "Bestparams:OrderedDict([('colsample_bytree', 0.7604552944997698), ('learning_rate', 0.1641655036765839), ('max_depth', 481), ('min_child_weight', 1.0184808924538276), ('min_data_in_leaf', 120), ('n_estimators', 607), ('num_leaves', 615), ('reg_alpha', 3), ('reg_lambda', 878), ('subsample', 0.7416961993621997)])\n",
      "\n"
     ]
    }
   ],
   "source": [
    "result1 = lgb_tuner.fit(X1_train, y1_train,callback = status_print)"
   ]
  },
  {
   "cell_type": "code",
   "execution_count": 139,
   "metadata": {},
   "outputs": [
    {
     "name": "stdout",
     "output_type": "stream",
     "text": [
      "Fitting 1 folds for each of 1 candidates, totalling 1 fits\n"
     ]
    },
    {
     "name": "stderr",
     "output_type": "stream",
     "text": [
      "[Parallel(n_jobs=1)]: Using backend SequentialBackend with 1 concurrent workers.\n",
      "[Parallel(n_jobs=1)]: Done   1 out of   1 | elapsed:  4.0min finished\n",
      "[Parallel(n_jobs=1)]: Using backend SequentialBackend with 1 concurrent workers.\n"
     ]
    },
    {
     "name": "stdout",
     "output_type": "stream",
     "text": [
      "Model 1:\n",
      "Best Score:    0.8739\n",
      "Bestparams:OrderedDict([('colsample_bytree', 0.8601068320616704), ('learning_rate', 0.05435602973134512), ('max_depth', 48), ('min_child_weight', 4.688289424522031), ('min_data_in_leaf', 127), ('n_estimators', 1347), ('num_leaves', 332), ('reg_alpha', 767), ('reg_lambda', 125), ('subsample', 0.7123773547917213)])\n",
      "\n",
      "Fitting 1 folds for each of 1 candidates, totalling 1 fits\n"
     ]
    },
    {
     "name": "stderr",
     "output_type": "stream",
     "text": [
      "[Parallel(n_jobs=1)]: Done   1 out of   1 | elapsed:  6.1min finished\n",
      "[Parallel(n_jobs=1)]: Using backend SequentialBackend with 1 concurrent workers.\n"
     ]
    },
    {
     "name": "stdout",
     "output_type": "stream",
     "text": [
      "Model 2:\n",
      "Best Score:    0.9357\n",
      "Bestparams:OrderedDict([('colsample_bytree', 0.9925929263254571), ('learning_rate', 0.33587374758460675), ('max_depth', 419), ('min_child_weight', 0.33436455315174696), ('min_data_in_leaf', 101), ('n_estimators', 1830), ('num_leaves', 469), ('reg_alpha', 57), ('reg_lambda', 873), ('subsample', 0.6538516484960257)])\n",
      "\n",
      "Fitting 1 folds for each of 1 candidates, totalling 1 fits\n"
     ]
    },
    {
     "name": "stderr",
     "output_type": "stream",
     "text": [
      "[Parallel(n_jobs=1)]: Done   1 out of   1 | elapsed:  1.1min finished\n",
      "[Parallel(n_jobs=1)]: Using backend SequentialBackend with 1 concurrent workers.\n"
     ]
    },
    {
     "name": "stdout",
     "output_type": "stream",
     "text": [
      "Model 3:\n",
      "Best Score:    0.9357\n",
      "Bestparams:OrderedDict([('colsample_bytree', 0.9925929263254571), ('learning_rate', 0.33587374758460675), ('max_depth', 419), ('min_child_weight', 0.33436455315174696), ('min_data_in_leaf', 101), ('n_estimators', 1830), ('num_leaves', 469), ('reg_alpha', 57), ('reg_lambda', 873), ('subsample', 0.6538516484960257)])\n",
      "\n",
      "Fitting 1 folds for each of 1 candidates, totalling 1 fits\n"
     ]
    },
    {
     "name": "stderr",
     "output_type": "stream",
     "text": [
      "[Parallel(n_jobs=1)]: Done   1 out of   1 | elapsed:  6.9min finished\n",
      "[Parallel(n_jobs=1)]: Using backend SequentialBackend with 1 concurrent workers.\n"
     ]
    },
    {
     "name": "stdout",
     "output_type": "stream",
     "text": [
      "Model 4:\n",
      "Best Score:    0.9357\n",
      "Bestparams:OrderedDict([('colsample_bytree', 0.9925929263254571), ('learning_rate', 0.33587374758460675), ('max_depth', 419), ('min_child_weight', 0.33436455315174696), ('min_data_in_leaf', 101), ('n_estimators', 1830), ('num_leaves', 469), ('reg_alpha', 57), ('reg_lambda', 873), ('subsample', 0.6538516484960257)])\n",
      "\n",
      "Fitting 1 folds for each of 1 candidates, totalling 1 fits\n"
     ]
    },
    {
     "name": "stderr",
     "output_type": "stream",
     "text": [
      "[Parallel(n_jobs=1)]: Done   1 out of   1 | elapsed:  6.1min finished\n",
      "[Parallel(n_jobs=1)]: Using backend SequentialBackend with 1 concurrent workers.\n"
     ]
    },
    {
     "name": "stdout",
     "output_type": "stream",
     "text": [
      "Model 5:\n",
      "Best Score:    0.9357\n",
      "Bestparams:OrderedDict([('colsample_bytree', 0.9925929263254571), ('learning_rate', 0.33587374758460675), ('max_depth', 419), ('min_child_weight', 0.33436455315174696), ('min_data_in_leaf', 101), ('n_estimators', 1830), ('num_leaves', 469), ('reg_alpha', 57), ('reg_lambda', 873), ('subsample', 0.6538516484960257)])\n",
      "\n",
      "Fitting 1 folds for each of 1 candidates, totalling 1 fits\n"
     ]
    },
    {
     "name": "stderr",
     "output_type": "stream",
     "text": [
      "[Parallel(n_jobs=1)]: Done   1 out of   1 | elapsed:  2.9min finished\n",
      "[Parallel(n_jobs=1)]: Using backend SequentialBackend with 1 concurrent workers.\n"
     ]
    },
    {
     "name": "stdout",
     "output_type": "stream",
     "text": [
      "Model 6:\n",
      "Best Score:    0.9357\n",
      "Bestparams:OrderedDict([('colsample_bytree', 0.9925929263254571), ('learning_rate', 0.33587374758460675), ('max_depth', 419), ('min_child_weight', 0.33436455315174696), ('min_data_in_leaf', 101), ('n_estimators', 1830), ('num_leaves', 469), ('reg_alpha', 57), ('reg_lambda', 873), ('subsample', 0.6538516484960257)])\n",
      "\n",
      "Fitting 1 folds for each of 1 candidates, totalling 1 fits\n"
     ]
    },
    {
     "name": "stderr",
     "output_type": "stream",
     "text": [
      "[Parallel(n_jobs=1)]: Done   1 out of   1 | elapsed:  9.8min finished\n",
      "[Parallel(n_jobs=1)]: Using backend SequentialBackend with 1 concurrent workers.\n"
     ]
    },
    {
     "name": "stdout",
     "output_type": "stream",
     "text": [
      "Model 7:\n",
      "Best Score:    0.9621\n",
      "Bestparams:OrderedDict([('colsample_bytree', 0.7604552944997698), ('learning_rate', 0.1641655036765839), ('max_depth', 481), ('min_child_weight', 1.0184808924538276), ('min_data_in_leaf', 120), ('n_estimators', 607), ('num_leaves', 615), ('reg_alpha', 3), ('reg_lambda', 878), ('subsample', 0.7416961993621997)])\n",
      "\n",
      "Fitting 1 folds for each of 1 candidates, totalling 1 fits\n"
     ]
    },
    {
     "name": "stderr",
     "output_type": "stream",
     "text": [
      "[Parallel(n_jobs=1)]: Done   1 out of   1 | elapsed: 21.1min finished\n",
      "[Parallel(n_jobs=1)]: Using backend SequentialBackend with 1 concurrent workers.\n"
     ]
    },
    {
     "name": "stdout",
     "output_type": "stream",
     "text": [
      "Model 8:\n",
      "Best Score:    0.9621\n",
      "Bestparams:OrderedDict([('colsample_bytree', 0.7604552944997698), ('learning_rate', 0.1641655036765839), ('max_depth', 481), ('min_child_weight', 1.0184808924538276), ('min_data_in_leaf', 120), ('n_estimators', 607), ('num_leaves', 615), ('reg_alpha', 3), ('reg_lambda', 878), ('subsample', 0.7416961993621997)])\n",
      "\n",
      "Fitting 1 folds for each of 1 candidates, totalling 1 fits\n"
     ]
    },
    {
     "name": "stderr",
     "output_type": "stream",
     "text": [
      "[Parallel(n_jobs=1)]: Done   1 out of   1 | elapsed:  3.6min finished\n"
     ]
    },
    {
     "name": "stdout",
     "output_type": "stream",
     "text": [
      "Model 9:\n",
      "Best Score:    0.9621\n",
      "Bestparams:OrderedDict([('colsample_bytree', 0.7604552944997698), ('learning_rate', 0.1641655036765839), ('max_depth', 481), ('min_child_weight', 1.0184808924538276), ('min_data_in_leaf', 120), ('n_estimators', 607), ('num_leaves', 615), ('reg_alpha', 3), ('reg_lambda', 878), ('subsample', 0.7416961993621997)])\n",
      "\n"
     ]
    }
   ],
   "source": [
    "result2 = lgb_tuner.fit(X2_train, y2_train, callback = status_print)"
   ]
  },
  {
   "cell_type": "code",
   "execution_count": 140,
   "metadata": {},
   "outputs": [
    {
     "data": {
      "text/plain": [
       "defaultdict(list,\n",
       "            {'split0_test_score': [0.8738831502565162,\n",
       "              0.9356984416086563,\n",
       "              0.9079886825958965,\n",
       "              0.8806210369175312,\n",
       "              0.8807257927733282,\n",
       "              0.9246831274504905,\n",
       "              0.9621497628318703,\n",
       "              0.8761016434950766,\n",
       "              0.8857882503754273],\n",
       "             'mean_test_score': [0.8738831502565162,\n",
       "              0.9356984416086563,\n",
       "              0.9079886825958965,\n",
       "              0.8806210369175312,\n",
       "              0.8807257927733282,\n",
       "              0.9246831274504905,\n",
       "              0.9621497628318703,\n",
       "              0.8761016434950766,\n",
       "              0.8857882503754273],\n",
       "             'std_test_score': [0.0, 0.0, 0.0, 0.0, 0.0, 0.0, 0.0, 0.0, 0.0],\n",
       "             'rank_test_score': [9, 2, 4, 7, 6, 3, 1, 8, 5],\n",
       "             'mean_fit_time': [234.39672303199768,\n",
       "              359.49356269836426,\n",
       "              63.86252689361572,\n",
       "              411.11548805236816,\n",
       "              363.664026260376,\n",
       "              163.73160362243652,\n",
       "              543.2589702606201,\n",
       "              1255.899533033371,\n",
       "              212.36998844146729],\n",
       "             'std_fit_time': [0.0, 0.0, 0.0, 0.0, 0.0, 0.0, 0.0, 0.0, 0.0],\n",
       "             'mean_score_time': [4.318986654281616,\n",
       "              7.49406099319458,\n",
       "              3.873617649078369,\n",
       "              5.856429815292358,\n",
       "              5.0031890869140625,\n",
       "              9.839781522750854,\n",
       "              44.01455640792847,\n",
       "              9.77833104133606,\n",
       "              4.818260908126831],\n",
       "             'std_score_time': [0.0, 0.0, 0.0, 0.0, 0.0, 0.0, 0.0, 0.0, 0.0],\n",
       "             'param_colsample_bytree': [0.8601068320616704,\n",
       "              0.9925929263254571,\n",
       "              0.6767424817345512,\n",
       "              0.5669887687579028,\n",
       "              0.33755907021465986,\n",
       "              0.418203248656915,\n",
       "              0.7604552944997698,\n",
       "              0.7703399241440627,\n",
       "              0.7300896849122684],\n",
       "             'param_learning_rate': [0.05435602973134512,\n",
       "              0.33587374758460675,\n",
       "              0.25167846772311614,\n",
       "              0.05107506886684604,\n",
       "              0.08064952103713094,\n",
       "              0.1471780929656312,\n",
       "              0.1641655036765839,\n",
       "              0.023322410212853167,\n",
       "              0.17573458141694218],\n",
       "             'param_max_depth': [48, 419, 85, 211, 43, 329, 481, 28, 470],\n",
       "             'param_min_child_weight': [4.688289424522031,\n",
       "              0.33436455315174696,\n",
       "              0.9770716693308719,\n",
       "              6.419839548682664,\n",
       "              6.7587014563568015,\n",
       "              3.0129181312310216,\n",
       "              1.0184808924538276,\n",
       "              7.409469114238202,\n",
       "              4.049609909451263],\n",
       "             'param_min_data_in_leaf': [127,\n",
       "              101,\n",
       "              88,\n",
       "              122,\n",
       "              99,\n",
       "              166,\n",
       "              120,\n",
       "              189,\n",
       "              170],\n",
       "             'param_n_estimators': [1347,\n",
       "              1830,\n",
       "              335,\n",
       "              3633,\n",
       "              4583,\n",
       "              1221,\n",
       "              607,\n",
       "              8211,\n",
       "              1161],\n",
       "             'param_num_leaves': [332, 469, 280, 278, 250, 639, 615, 574, 200],\n",
       "             'param_reg_alpha': [767, 57, 175, 567, 511, 75, 3, 711, 479],\n",
       "             'param_reg_lambda': [125, 873, 384, 323, 228, 476, 878, 358, 596],\n",
       "             'param_subsample': [0.7123773547917213,\n",
       "              0.6538516484960257,\n",
       "              0.1660774191223908,\n",
       "              0.43384700896432316,\n",
       "              0.8359625948855841,\n",
       "              0.12877194728675082,\n",
       "              0.7416961993621997,\n",
       "              0.432915607299149,\n",
       "              0.6238675363089228],\n",
       "             'params': [OrderedDict([('colsample_bytree', 0.8601068320616704),\n",
       "                           ('learning_rate', 0.05435602973134512),\n",
       "                           ('max_depth', 48),\n",
       "                           ('min_child_weight', 4.688289424522031),\n",
       "                           ('min_data_in_leaf', 127),\n",
       "                           ('n_estimators', 1347),\n",
       "                           ('num_leaves', 332),\n",
       "                           ('reg_alpha', 767),\n",
       "                           ('reg_lambda', 125),\n",
       "                           ('subsample', 0.7123773547917213)]),\n",
       "              OrderedDict([('colsample_bytree', 0.9925929263254571),\n",
       "                           ('learning_rate', 0.33587374758460675),\n",
       "                           ('max_depth', 419),\n",
       "                           ('min_child_weight', 0.33436455315174696),\n",
       "                           ('min_data_in_leaf', 101),\n",
       "                           ('n_estimators', 1830),\n",
       "                           ('num_leaves', 469),\n",
       "                           ('reg_alpha', 57),\n",
       "                           ('reg_lambda', 873),\n",
       "                           ('subsample', 0.6538516484960257)]),\n",
       "              OrderedDict([('colsample_bytree', 0.6767424817345512),\n",
       "                           ('learning_rate', 0.25167846772311614),\n",
       "                           ('max_depth', 85),\n",
       "                           ('min_child_weight', 0.9770716693308719),\n",
       "                           ('min_data_in_leaf', 88),\n",
       "                           ('n_estimators', 335),\n",
       "                           ('num_leaves', 280),\n",
       "                           ('reg_alpha', 175),\n",
       "                           ('reg_lambda', 384),\n",
       "                           ('subsample', 0.1660774191223908)]),\n",
       "              OrderedDict([('colsample_bytree', 0.5669887687579028),\n",
       "                           ('learning_rate', 0.05107506886684604),\n",
       "                           ('max_depth', 211),\n",
       "                           ('min_child_weight', 6.419839548682664),\n",
       "                           ('min_data_in_leaf', 122),\n",
       "                           ('n_estimators', 3633),\n",
       "                           ('num_leaves', 278),\n",
       "                           ('reg_alpha', 567),\n",
       "                           ('reg_lambda', 323),\n",
       "                           ('subsample', 0.43384700896432316)]),\n",
       "              OrderedDict([('colsample_bytree', 0.33755907021465986),\n",
       "                           ('learning_rate', 0.08064952103713094),\n",
       "                           ('max_depth', 43),\n",
       "                           ('min_child_weight', 6.7587014563568015),\n",
       "                           ('min_data_in_leaf', 99),\n",
       "                           ('n_estimators', 4583),\n",
       "                           ('num_leaves', 250),\n",
       "                           ('reg_alpha', 511),\n",
       "                           ('reg_lambda', 228),\n",
       "                           ('subsample', 0.8359625948855841)]),\n",
       "              OrderedDict([('colsample_bytree', 0.418203248656915),\n",
       "                           ('learning_rate', 0.1471780929656312),\n",
       "                           ('max_depth', 329),\n",
       "                           ('min_child_weight', 3.0129181312310216),\n",
       "                           ('min_data_in_leaf', 166),\n",
       "                           ('n_estimators', 1221),\n",
       "                           ('num_leaves', 639),\n",
       "                           ('reg_alpha', 75),\n",
       "                           ('reg_lambda', 476),\n",
       "                           ('subsample', 0.12877194728675082)]),\n",
       "              OrderedDict([('colsample_bytree', 0.7604552944997698),\n",
       "                           ('learning_rate', 0.1641655036765839),\n",
       "                           ('max_depth', 481),\n",
       "                           ('min_child_weight', 1.0184808924538276),\n",
       "                           ('min_data_in_leaf', 120),\n",
       "                           ('n_estimators', 607),\n",
       "                           ('num_leaves', 615),\n",
       "                           ('reg_alpha', 3),\n",
       "                           ('reg_lambda', 878),\n",
       "                           ('subsample', 0.7416961993621997)]),\n",
       "              OrderedDict([('colsample_bytree', 0.7703399241440627),\n",
       "                           ('learning_rate', 0.023322410212853167),\n",
       "                           ('max_depth', 28),\n",
       "                           ('min_child_weight', 7.409469114238202),\n",
       "                           ('min_data_in_leaf', 189),\n",
       "                           ('n_estimators', 8211),\n",
       "                           ('num_leaves', 574),\n",
       "                           ('reg_alpha', 711),\n",
       "                           ('reg_lambda', 358),\n",
       "                           ('subsample', 0.432915607299149)]),\n",
       "              OrderedDict([('colsample_bytree', 0.7300896849122684),\n",
       "                           ('learning_rate', 0.17573458141694218),\n",
       "                           ('max_depth', 470),\n",
       "                           ('min_child_weight', 4.049609909451263),\n",
       "                           ('min_data_in_leaf', 170),\n",
       "                           ('n_estimators', 1161),\n",
       "                           ('num_leaves', 200),\n",
       "                           ('reg_alpha', 479),\n",
       "                           ('reg_lambda', 596),\n",
       "                           ('subsample', 0.6238675363089228)])]})"
      ]
     },
     "execution_count": 140,
     "metadata": {},
     "output_type": "execute_result"
    }
   ],
   "source": [
    "result1.cv_results_"
   ]
  },
  {
   "cell_type": "code",
   "execution_count": 141,
   "metadata": {},
   "outputs": [
    {
     "data": {
      "text/plain": [
       "defaultdict(list,\n",
       "            {'split0_test_score': [0.8738831502565162,\n",
       "              0.9356984416086563,\n",
       "              0.9079886825958965,\n",
       "              0.8806210369175312,\n",
       "              0.8807257927733282,\n",
       "              0.9246831274504905,\n",
       "              0.9621497628318703,\n",
       "              0.8761016434950766,\n",
       "              0.8857882503754273],\n",
       "             'mean_test_score': [0.8738831502565162,\n",
       "              0.9356984416086563,\n",
       "              0.9079886825958965,\n",
       "              0.8806210369175312,\n",
       "              0.8807257927733282,\n",
       "              0.9246831274504905,\n",
       "              0.9621497628318703,\n",
       "              0.8761016434950766,\n",
       "              0.8857882503754273],\n",
       "             'std_test_score': [0.0, 0.0, 0.0, 0.0, 0.0, 0.0, 0.0, 0.0, 0.0],\n",
       "             'rank_test_score': [9, 2, 4, 7, 6, 3, 1, 8, 5],\n",
       "             'mean_fit_time': [234.39672303199768,\n",
       "              359.49356269836426,\n",
       "              63.86252689361572,\n",
       "              411.11548805236816,\n",
       "              363.664026260376,\n",
       "              163.73160362243652,\n",
       "              543.2589702606201,\n",
       "              1255.899533033371,\n",
       "              212.36998844146729],\n",
       "             'std_fit_time': [0.0, 0.0, 0.0, 0.0, 0.0, 0.0, 0.0, 0.0, 0.0],\n",
       "             'mean_score_time': [4.318986654281616,\n",
       "              7.49406099319458,\n",
       "              3.873617649078369,\n",
       "              5.856429815292358,\n",
       "              5.0031890869140625,\n",
       "              9.839781522750854,\n",
       "              44.01455640792847,\n",
       "              9.77833104133606,\n",
       "              4.818260908126831],\n",
       "             'std_score_time': [0.0, 0.0, 0.0, 0.0, 0.0, 0.0, 0.0, 0.0, 0.0],\n",
       "             'param_colsample_bytree': [0.8601068320616704,\n",
       "              0.9925929263254571,\n",
       "              0.6767424817345512,\n",
       "              0.5669887687579028,\n",
       "              0.33755907021465986,\n",
       "              0.418203248656915,\n",
       "              0.7604552944997698,\n",
       "              0.7703399241440627,\n",
       "              0.7300896849122684],\n",
       "             'param_learning_rate': [0.05435602973134512,\n",
       "              0.33587374758460675,\n",
       "              0.25167846772311614,\n",
       "              0.05107506886684604,\n",
       "              0.08064952103713094,\n",
       "              0.1471780929656312,\n",
       "              0.1641655036765839,\n",
       "              0.023322410212853167,\n",
       "              0.17573458141694218],\n",
       "             'param_max_depth': [48, 419, 85, 211, 43, 329, 481, 28, 470],\n",
       "             'param_min_child_weight': [4.688289424522031,\n",
       "              0.33436455315174696,\n",
       "              0.9770716693308719,\n",
       "              6.419839548682664,\n",
       "              6.7587014563568015,\n",
       "              3.0129181312310216,\n",
       "              1.0184808924538276,\n",
       "              7.409469114238202,\n",
       "              4.049609909451263],\n",
       "             'param_min_data_in_leaf': [127,\n",
       "              101,\n",
       "              88,\n",
       "              122,\n",
       "              99,\n",
       "              166,\n",
       "              120,\n",
       "              189,\n",
       "              170],\n",
       "             'param_n_estimators': [1347,\n",
       "              1830,\n",
       "              335,\n",
       "              3633,\n",
       "              4583,\n",
       "              1221,\n",
       "              607,\n",
       "              8211,\n",
       "              1161],\n",
       "             'param_num_leaves': [332, 469, 280, 278, 250, 639, 615, 574, 200],\n",
       "             'param_reg_alpha': [767, 57, 175, 567, 511, 75, 3, 711, 479],\n",
       "             'param_reg_lambda': [125, 873, 384, 323, 228, 476, 878, 358, 596],\n",
       "             'param_subsample': [0.7123773547917213,\n",
       "              0.6538516484960257,\n",
       "              0.1660774191223908,\n",
       "              0.43384700896432316,\n",
       "              0.8359625948855841,\n",
       "              0.12877194728675082,\n",
       "              0.7416961993621997,\n",
       "              0.432915607299149,\n",
       "              0.6238675363089228],\n",
       "             'params': [OrderedDict([('colsample_bytree', 0.8601068320616704),\n",
       "                           ('learning_rate', 0.05435602973134512),\n",
       "                           ('max_depth', 48),\n",
       "                           ('min_child_weight', 4.688289424522031),\n",
       "                           ('min_data_in_leaf', 127),\n",
       "                           ('n_estimators', 1347),\n",
       "                           ('num_leaves', 332),\n",
       "                           ('reg_alpha', 767),\n",
       "                           ('reg_lambda', 125),\n",
       "                           ('subsample', 0.7123773547917213)]),\n",
       "              OrderedDict([('colsample_bytree', 0.9925929263254571),\n",
       "                           ('learning_rate', 0.33587374758460675),\n",
       "                           ('max_depth', 419),\n",
       "                           ('min_child_weight', 0.33436455315174696),\n",
       "                           ('min_data_in_leaf', 101),\n",
       "                           ('n_estimators', 1830),\n",
       "                           ('num_leaves', 469),\n",
       "                           ('reg_alpha', 57),\n",
       "                           ('reg_lambda', 873),\n",
       "                           ('subsample', 0.6538516484960257)]),\n",
       "              OrderedDict([('colsample_bytree', 0.6767424817345512),\n",
       "                           ('learning_rate', 0.25167846772311614),\n",
       "                           ('max_depth', 85),\n",
       "                           ('min_child_weight', 0.9770716693308719),\n",
       "                           ('min_data_in_leaf', 88),\n",
       "                           ('n_estimators', 335),\n",
       "                           ('num_leaves', 280),\n",
       "                           ('reg_alpha', 175),\n",
       "                           ('reg_lambda', 384),\n",
       "                           ('subsample', 0.1660774191223908)]),\n",
       "              OrderedDict([('colsample_bytree', 0.5669887687579028),\n",
       "                           ('learning_rate', 0.05107506886684604),\n",
       "                           ('max_depth', 211),\n",
       "                           ('min_child_weight', 6.419839548682664),\n",
       "                           ('min_data_in_leaf', 122),\n",
       "                           ('n_estimators', 3633),\n",
       "                           ('num_leaves', 278),\n",
       "                           ('reg_alpha', 567),\n",
       "                           ('reg_lambda', 323),\n",
       "                           ('subsample', 0.43384700896432316)]),\n",
       "              OrderedDict([('colsample_bytree', 0.33755907021465986),\n",
       "                           ('learning_rate', 0.08064952103713094),\n",
       "                           ('max_depth', 43),\n",
       "                           ('min_child_weight', 6.7587014563568015),\n",
       "                           ('min_data_in_leaf', 99),\n",
       "                           ('n_estimators', 4583),\n",
       "                           ('num_leaves', 250),\n",
       "                           ('reg_alpha', 511),\n",
       "                           ('reg_lambda', 228),\n",
       "                           ('subsample', 0.8359625948855841)]),\n",
       "              OrderedDict([('colsample_bytree', 0.418203248656915),\n",
       "                           ('learning_rate', 0.1471780929656312),\n",
       "                           ('max_depth', 329),\n",
       "                           ('min_child_weight', 3.0129181312310216),\n",
       "                           ('min_data_in_leaf', 166),\n",
       "                           ('n_estimators', 1221),\n",
       "                           ('num_leaves', 639),\n",
       "                           ('reg_alpha', 75),\n",
       "                           ('reg_lambda', 476),\n",
       "                           ('subsample', 0.12877194728675082)]),\n",
       "              OrderedDict([('colsample_bytree', 0.7604552944997698),\n",
       "                           ('learning_rate', 0.1641655036765839),\n",
       "                           ('max_depth', 481),\n",
       "                           ('min_child_weight', 1.0184808924538276),\n",
       "                           ('min_data_in_leaf', 120),\n",
       "                           ('n_estimators', 607),\n",
       "                           ('num_leaves', 615),\n",
       "                           ('reg_alpha', 3),\n",
       "                           ('reg_lambda', 878),\n",
       "                           ('subsample', 0.7416961993621997)]),\n",
       "              OrderedDict([('colsample_bytree', 0.7703399241440627),\n",
       "                           ('learning_rate', 0.023322410212853167),\n",
       "                           ('max_depth', 28),\n",
       "                           ('min_child_weight', 7.409469114238202),\n",
       "                           ('min_data_in_leaf', 189),\n",
       "                           ('n_estimators', 8211),\n",
       "                           ('num_leaves', 574),\n",
       "                           ('reg_alpha', 711),\n",
       "                           ('reg_lambda', 358),\n",
       "                           ('subsample', 0.432915607299149)]),\n",
       "              OrderedDict([('colsample_bytree', 0.7300896849122684),\n",
       "                           ('learning_rate', 0.17573458141694218),\n",
       "                           ('max_depth', 470),\n",
       "                           ('min_child_weight', 4.049609909451263),\n",
       "                           ('min_data_in_leaf', 170),\n",
       "                           ('n_estimators', 1161),\n",
       "                           ('num_leaves', 200),\n",
       "                           ('reg_alpha', 479),\n",
       "                           ('reg_lambda', 596),\n",
       "                           ('subsample', 0.6238675363089228)])]})"
      ]
     },
     "execution_count": 141,
     "metadata": {},
     "output_type": "execute_result"
    }
   ],
   "source": [
    "result2.cv_results_"
   ]
  },
  {
   "cell_type": "code",
   "execution_count": 142,
   "metadata": {},
   "outputs": [
    {
     "data": {
      "text/plain": [
       "OrderedDict([('colsample_bytree', 0.7604552944997698),\n",
       "             ('learning_rate', 0.1641655036765839),\n",
       "             ('max_depth', 481),\n",
       "             ('min_child_weight', 1.0184808924538276),\n",
       "             ('min_data_in_leaf', 120),\n",
       "             ('n_estimators', 607),\n",
       "             ('num_leaves', 615),\n",
       "             ('reg_alpha', 3),\n",
       "             ('reg_lambda', 878),\n",
       "             ('subsample', 0.7416961993621997)])"
      ]
     },
     "execution_count": 142,
     "metadata": {},
     "output_type": "execute_result"
    }
   ],
   "source": [
    "params1 = result1.best_params_\n",
    "params1"
   ]
  },
  {
   "cell_type": "code",
   "execution_count": 143,
   "metadata": {},
   "outputs": [
    {
     "data": {
      "text/plain": [
       "OrderedDict([('colsample_bytree', 0.7604552944997698),\n",
       "             ('learning_rate', 0.1641655036765839),\n",
       "             ('max_depth', 481),\n",
       "             ('min_child_weight', 1.0184808924538276),\n",
       "             ('min_data_in_leaf', 120),\n",
       "             ('n_estimators', 607),\n",
       "             ('num_leaves', 615),\n",
       "             ('reg_alpha', 3),\n",
       "             ('reg_lambda', 878),\n",
       "             ('subsample', 0.7416961993621997)])"
      ]
     },
     "execution_count": 143,
     "metadata": {},
     "output_type": "execute_result"
    }
   ],
   "source": [
    "params2 = result2.best_params_\n",
    "params2"
   ]
  },
  {
   "cell_type": "code",
   "execution_count": 144,
   "metadata": {},
   "outputs": [
    {
     "data": {
      "text/plain": [
       "\"\\nOrderedDict([('colsample_bytree', 0.7604552944997698),\\n             ('learning_rate', 0.1641655036765839),\\n             ('max_depth', 481),\\n             ('min_child_weight', 1.0184808924538276),\\n             ('min_data_in_leaf', 117),\\n             ('n_estimators', 607),\\n             ('num_leaves', 615),\\n             ('reg_alpha', 3),\\n             ('reg_lambda', 878),\\n             ('subsample', 0.7416961993621997)])\\n\""
      ]
     },
     "execution_count": 144,
     "metadata": {},
     "output_type": "execute_result"
    }
   ],
   "source": [
    "'''\n",
    "OrderedDict([('colsample_bytree', 0.7604552944997698),\n",
    "             ('learning_rate', 0.1641655036765839),\n",
    "             ('max_depth', 481),\n",
    "             ('min_child_weight', 1.0184808924538276),\n",
    "             ('min_data_in_leaf', 117),\n",
    "             ('n_estimators', 607),\n",
    "             ('num_leaves', 615),\n",
    "             ('reg_alpha', 3),\n",
    "             ('reg_lambda', 878),\n",
    "             ('subsample', 0.7416961993621997)])\n",
    "'''"
   ]
  },
  {
   "cell_type": "markdown",
   "metadata": {},
   "source": [
    "## Part C: Retrain model on entire training data (A) and apply on validation data (B)"
   ]
  },
  {
   "cell_type": "markdown",
   "metadata": {},
   "source": [
    "Build Model"
   ]
  },
  {
   "cell_type": "code",
   "execution_count": 145,
   "metadata": {},
   "outputs": [
    {
     "name": "stdout",
     "output_type": "stream",
     "text": [
      "Tuned model 1 is fitted\n",
      "Wall time: 10min 23s\n",
      "Parser   : 201 ms\n"
     ]
    }
   ],
   "source": [
    "%%time\n",
    "x1_model = lgb.LGBMClassifier(metric='auc', objective = 'binary', boosting_type = 'gbdt',  \n",
    "             colsample_bytree = params['colsample_bytree'],\n",
    "             learning_rate = params['learning_rate'],\n",
    "             max_depth = params['max_depth'],\n",
    "             min_child_weight = params['min_child_weight'],\n",
    "             min_data_in_leaf = params['min_data_in_leaf'],\n",
    "             n_estimators = params['n_estimators'],\n",
    "             num_leaves = params['num_leaves'],\n",
    "             reg_alpha = params['reg_alpha'],\n",
    "             reg_lambda = params['reg_lambda'],\n",
    "             subsample = params['subsample'])                     \n",
    "x1_model.fit(X1_train, y1_train)\n",
    "print(\"Tuned model 1 is fitted\")"
   ]
  },
  {
   "cell_type": "code",
   "execution_count": 146,
   "metadata": {},
   "outputs": [
    {
     "name": "stdout",
     "output_type": "stream",
     "text": [
      "Tuned model 2 is fitted\n",
      "Wall time: 8min 31s\n"
     ]
    }
   ],
   "source": [
    "%%time\n",
    "x2_model = lgb.LGBMClassifier(metric='auc', objective = 'binary', boosting_type = 'gbdt',  \n",
    "             colsample_bytree = params['colsample_bytree'],\n",
    "             learning_rate = params['learning_rate'],\n",
    "             max_depth = params['max_depth'],\n",
    "             min_child_weight = params['min_child_weight'],\n",
    "             min_data_in_leaf = params['min_data_in_leaf'],\n",
    "             n_estimators = params['n_estimators'],\n",
    "             num_leaves = params['num_leaves'],\n",
    "             reg_alpha = params['reg_alpha'],\n",
    "             reg_lambda = params['reg_lambda'],\n",
    "             subsample = params['subsample'])                     \n",
    "x2_model.fit(X2_train, y2_train)\n",
    "print(\"Tuned model 2 is fitted\")"
   ]
  },
  {
   "cell_type": "markdown",
   "metadata": {},
   "source": [
    "##### Test model and report performance metrics"
   ]
  },
  {
   "cell_type": "code",
   "execution_count": 147,
   "metadata": {},
   "outputs": [
    {
     "name": "stdout",
     "output_type": "stream",
     "text": [
      "ROC_AUC score for X1: 96.95%\n",
      "Wall time: 1min 11s\n",
      "Parser   : 151 ms\n"
     ]
    }
   ],
   "source": [
    "%%time\n",
    "x1_y_pred = x1_model.predict_proba(X1_test)[:, 1]\n",
    "auc_score1 = roc_auc_score(y1_test, x1_y_pred)\n",
    "print(f\"ROC_AUC score for X1: {auc_score1* 100:.2f}%\")\n",
    "x1_frp, x1_tpr, _ = roc_curve(y1_test, x1_y_pred)"
   ]
  },
  {
   "cell_type": "code",
   "execution_count": 148,
   "metadata": {},
   "outputs": [
    {
     "name": "stdout",
     "output_type": "stream",
     "text": [
      "ROC_AUC score for X2: 96.73%\n",
      "Wall time: 1min 6s\n",
      "Parser   : 469 ms\n"
     ]
    }
   ],
   "source": [
    "%%time\n",
    "x2_y_pred = x2_model.predict_proba(X2_test)[:, 1]\n",
    "auc_score2 = roc_auc_score(y2_test, x2_y_pred)\n",
    "print(f\"ROC_AUC score for X2: {auc_score2* 100:.2f}%\")\n",
    "x2_frp, x2_tpr, _ = roc_curve(y2_test, x2_y_pred)"
   ]
  },
  {
   "cell_type": "code",
   "execution_count": 149,
   "metadata": {},
   "outputs": [
    {
     "data": {
      "image/png": "[encoded data removed]",
      "text/plain": [
       "<Figure size 720x576 with 1 Axes>"
      ]
     },
     "metadata": {
      "needs_background": "light"
     },
     "output_type": "display_data"
    }
   ],
   "source": [
    "# Define true-positive and false-positive for no skill predictions\n",
    "no_skill_pred = [0 for _ in range(len(y1_test))]\n",
    "ns_frp, ns_tpr, _ = roc_curve(y1_test, no_skill_pred)\n",
    "\n",
    "# Plot ROC curve across models\n",
    "plt.figure(figsize=(10, 8))\n",
    "plt.plot(ns_frp, ns_tpr, linestyle = '--', label='No Skill')\n",
    "plt.plot(x1_frp, x1_tpr, marker = '.', label='Tuned LGB Model 1')\n",
    "plt.plot(x2_frp, x2_tpr, marker = '.', label='Tuned LGB Model 2')\n",
    "plt.title('ROC Curve')\n",
    "plt.xlabel('False Positive Rate')\n",
    "plt.ylabel('True Positive Rate')\n",
    "plt.legend()\n",
    "plt.legend(loc=\"lower right\")\n",
    "plt.savefig('LGBM ROC Curve.png')\n",
    "plt.show()"
   ]
  },
  {
   "cell_type": "code",
   "execution_count": 150,
   "metadata": {},
   "outputs": [
    {
     "name": "stdout",
     "output_type": "stream",
     "text": [
      "Model 1\n",
      "Confusion matrix [[170780    216]\n",
      " [  2206   3960]]\n",
      "Accuracy score: 98.63%\n",
      "Report\n",
      "              precision    recall  f1-score   support\n",
      "\n",
      "         0.0       1.00      0.99      0.99    172986\n",
      "         1.0       0.64      0.95      0.77      4176\n",
      "\n",
      "    accuracy                           0.99    177162\n",
      "   macro avg       0.82      0.97      0.88    177162\n",
      "weighted avg       0.99      0.99      0.99    177162\n",
      "\n"
     ]
    }
   ],
   "source": [
    "#Confusion matrix\n",
    "print(\"Model 1\")\n",
    "\n",
    "for i in range(len(x1_y_pred)):\n",
    "    if x1_y_pred[i]>=.5:       # setting threshold to .5\n",
    "        x1_y_pred[i]=1\n",
    "    else:  \n",
    "        x1_y_pred[i]=0\n",
    "\n",
    "cm = confusion_matrix(y1_test, x1_y_pred)\n",
    "print(\"Confusion matrix\",cm)\n",
    "\n",
    "#Accuracy\n",
    "accuracy=accuracy_score(x1_y_pred,y1_test)\n",
    "print(f\"Accuracy score: {accuracy* 100:.2f}%\")\n",
    "\n",
    "#Scores\n",
    "print(\"Report\")\n",
    "print(classification_report(x1_y_pred,y1_test))"
   ]
  },
  {
   "cell_type": "code",
   "execution_count": 151,
   "metadata": {},
   "outputs": [
    {
     "name": "stdout",
     "output_type": "stream",
     "text": [
      "Model 2\n",
      "Confusion matrix [[170734    262]\n",
      " [  2320   3846]]\n",
      "Accuracy score: 98.54%\n",
      "Report\n",
      "              precision    recall  f1-score   support\n",
      "\n",
      "         0.0       1.00      0.99      0.99    173054\n",
      "         1.0       0.62      0.94      0.75      4108\n",
      "\n",
      "    accuracy                           0.99    177162\n",
      "   macro avg       0.81      0.96      0.87    177162\n",
      "weighted avg       0.99      0.99      0.99    177162\n",
      "\n"
     ]
    }
   ],
   "source": [
    "#Confusion matrix\n",
    "print(\"Model 2\")\n",
    "\n",
    "for i in range(len(x2_y_pred)):\n",
    "    if x2_y_pred[i]>=.5:       # setting threshold to .5\n",
    "        x2_y_pred[i]=1\n",
    "    else:  \n",
    "        x2_y_pred[i]=0\n",
    "\n",
    "cm = confusion_matrix(y2_test, x2_y_pred)\n",
    "print(\"Confusion matrix\",cm)\n",
    "\n",
    "#Accuracy\n",
    "accuracy=accuracy_score(x2_y_pred,y2_test)\n",
    "print(f\"Accuracy score: {accuracy* 100:.2f}%\")\n",
    "\n",
    "#Scores\n",
    "print(\"Report\")\n",
    "print(classification_report(x2_y_pred,y2_test))"
   ]
  },
  {
   "cell_type": "markdown",
   "metadata": {},
   "source": [
    "##### Feature Importance"
   ]
  },
  {
   "cell_type": "code",
   "execution_count": 152,
   "metadata": {},
   "outputs": [
    {
     "data": {
      "image/png": "[encoded data removed]",
      "text/plain": [
       "<Figure size 1080x576 with 1 Axes>"
      ]
     },
     "metadata": {
      "needs_background": "light"
     },
     "output_type": "display_data"
    },
    {
     "name": "stdout",
     "output_type": "stream",
     "text": [
      "Wall time: 2.76 s\n"
     ]
    }
   ],
   "source": [
    "%%time\n",
    "# Understand feature importance in the model\n",
    "feature_imp1 = pd.DataFrame(sorted(zip(x1_model.feature_importances_,X1_train.columns)), columns=['Value','Feature'])\n",
    "feature_imp1 = feature_imp1.sort_values(by = ['Value'], ascending = False).reset_index(drop = True)\n",
    "plt.figure(figsize=(15, 8))\n",
    "sns.barplot(x=\"Value\", y=\"Feature\", data=feature_imp1.sort_values(by=\"Value\", ascending=False).iloc[:20],\\\n",
    "            palette = \"Blues_d\")\n",
    "plt.title('LGBM Model 1 Tuned Model- Feature Importance')\n",
    "plt.savefig('LGBM Model 1 Feature Importance.png')\n",
    "plt.tight_layout()\n",
    "plt.show()"
   ]
  },
  {
   "cell_type": "code",
   "execution_count": 153,
   "metadata": {},
   "outputs": [
    {
     "data": {
      "text/html": [
       "<div>\n",
       "<style scoped>\n",
       "    .dataframe tbody tr th:only-of-type {\n",
       "        vertical-align: middle;\n",
       "    }\n",
       "\n",
       "    .dataframe tbody tr th {\n",
       "        vertical-align: top;\n",
       "    }\n",
       "\n",
       "    .dataframe thead th {\n",
       "        text-align: right;\n",
       "    }\n",
       "</style>\n",
       "<table border=\"1\" class=\"dataframe\">\n",
       "  <thead>\n",
       "    <tr style=\"text-align: right;\">\n",
       "      <th></th>\n",
       "      <th>Value</th>\n",
       "      <th>Feature</th>\n",
       "    </tr>\n",
       "  </thead>\n",
       "  <tbody>\n",
       "    <tr>\n",
       "      <th>0</th>\n",
       "      <td>11551</td>\n",
       "      <td>D1</td>\n",
       "    </tr>\n",
       "    <tr>\n",
       "      <th>1</th>\n",
       "      <td>11188</td>\n",
       "      <td>D15</td>\n",
       "    </tr>\n",
       "    <tr>\n",
       "      <th>2</th>\n",
       "      <td>10259</td>\n",
       "      <td>D10</td>\n",
       "    </tr>\n",
       "    <tr>\n",
       "      <th>3</th>\n",
       "      <td>9877</td>\n",
       "      <td>card1_addr1_P_emaildomain</td>\n",
       "    </tr>\n",
       "    <tr>\n",
       "      <th>4</th>\n",
       "      <td>9792</td>\n",
       "      <td>D4</td>\n",
       "    </tr>\n",
       "    <tr>\n",
       "      <th>5</th>\n",
       "      <td>9368</td>\n",
       "      <td>card1</td>\n",
       "    </tr>\n",
       "    <tr>\n",
       "      <th>6</th>\n",
       "      <td>9247</td>\n",
       "      <td>TransactionAmt</td>\n",
       "    </tr>\n",
       "    <tr>\n",
       "      <th>7</th>\n",
       "      <td>8597</td>\n",
       "      <td>D11_card1_addr1_P_emaildomain_mean</td>\n",
       "    </tr>\n",
       "    <tr>\n",
       "      <th>8</th>\n",
       "      <td>8582</td>\n",
       "      <td>P_emaildomain</td>\n",
       "    </tr>\n",
       "    <tr>\n",
       "      <th>9</th>\n",
       "      <td>8371</td>\n",
       "      <td>card1_addr1</td>\n",
       "    </tr>\n",
       "  </tbody>\n",
       "</table>\n",
       "</div>"
      ],
      "text/plain": [
       "   Value                             Feature\n",
       "0  11551                                  D1\n",
       "1  11188                                 D15\n",
       "2  10259                                 D10\n",
       "3   9877           card1_addr1_P_emaildomain\n",
       "4   9792                                  D4\n",
       "5   9368                               card1\n",
       "6   9247                      TransactionAmt\n",
       "7   8597  D11_card1_addr1_P_emaildomain_mean\n",
       "8   8582                       P_emaildomain\n",
       "9   8371                         card1_addr1"
      ]
     },
     "execution_count": 153,
     "metadata": {},
     "output_type": "execute_result"
    }
   ],
   "source": [
    "feature_imp1.head(10)"
   ]
  },
  {
   "cell_type": "code",
   "execution_count": 154,
   "metadata": {},
   "outputs": [
    {
     "data": {
      "image/png": "[encoded data removed]",
      "text/plain": [
       "<Figure size 1080x576 with 1 Axes>"
      ]
     },
     "metadata": {
      "needs_background": "light"
     },
     "output_type": "display_data"
    },
    {
     "name": "stdout",
     "output_type": "stream",
     "text": [
      "Wall time: 1.54 s\n"
     ]
    }
   ],
   "source": [
    "%%time\n",
    "# Understand feature importance in the model\n",
    "feature_imp2 = pd.DataFrame(sorted(zip(x2_model.feature_importances_,X2_train.columns)), columns=['Value','Feature'])\n",
    "feature_imp2 = feature_imp2.sort_values(by = ['Value'], ascending = False).reset_index(drop = True)\n",
    "plt.figure(figsize=(15, 8))\n",
    "sns.barplot(x=\"Value\", y=\"Feature\", data=feature_imp2.sort_values(by=\"Value\", ascending=False).iloc[:20],\\\n",
    "            palette = \"Blues_d\")\n",
    "plt.title('LGBM Model 2 Tuned Model- Feature Importance')\n",
    "plt.savefig('LGBM Model 2 Feature Importance.png')\n",
    "plt.tight_layout()\n",
    "plt.show()"
   ]
  },
  {
   "cell_type": "code",
   "execution_count": 155,
   "metadata": {},
   "outputs": [
    {
     "data": {
      "text/html": [
       "<div>\n",
       "<style scoped>\n",
       "    .dataframe tbody tr th:only-of-type {\n",
       "        vertical-align: middle;\n",
       "    }\n",
       "\n",
       "    .dataframe tbody tr th {\n",
       "        vertical-align: top;\n",
       "    }\n",
       "\n",
       "    .dataframe thead th {\n",
       "        text-align: right;\n",
       "    }\n",
       "</style>\n",
       "<table border=\"1\" class=\"dataframe\">\n",
       "  <thead>\n",
       "    <tr style=\"text-align: right;\">\n",
       "      <th></th>\n",
       "      <th>Value</th>\n",
       "      <th>Feature</th>\n",
       "    </tr>\n",
       "  </thead>\n",
       "  <tbody>\n",
       "    <tr>\n",
       "      <th>0</th>\n",
       "      <td>14487</td>\n",
       "      <td>D1</td>\n",
       "    </tr>\n",
       "    <tr>\n",
       "      <th>1</th>\n",
       "      <td>13385</td>\n",
       "      <td>D15</td>\n",
       "    </tr>\n",
       "    <tr>\n",
       "      <th>2</th>\n",
       "      <td>12432</td>\n",
       "      <td>D10</td>\n",
       "    </tr>\n",
       "    <tr>\n",
       "      <th>3</th>\n",
       "      <td>11086</td>\n",
       "      <td>card1_addr1_P_emaildomain</td>\n",
       "    </tr>\n",
       "    <tr>\n",
       "      <th>4</th>\n",
       "      <td>10094</td>\n",
       "      <td>TransactionAmt</td>\n",
       "    </tr>\n",
       "    <tr>\n",
       "      <th>5</th>\n",
       "      <td>9660</td>\n",
       "      <td>card1</td>\n",
       "    </tr>\n",
       "    <tr>\n",
       "      <th>6</th>\n",
       "      <td>9030</td>\n",
       "      <td>D11_card1_addr1_P_emaildomain_mean</td>\n",
       "    </tr>\n",
       "    <tr>\n",
       "      <th>7</th>\n",
       "      <td>9003</td>\n",
       "      <td>card1_addr1</td>\n",
       "    </tr>\n",
       "    <tr>\n",
       "      <th>8</th>\n",
       "      <td>8908</td>\n",
       "      <td>P_emaildomain</td>\n",
       "    </tr>\n",
       "    <tr>\n",
       "      <th>9</th>\n",
       "      <td>8229</td>\n",
       "      <td>D11_card1_addr1_mean</td>\n",
       "    </tr>\n",
       "  </tbody>\n",
       "</table>\n",
       "</div>"
      ],
      "text/plain": [
       "   Value                             Feature\n",
       "0  14487                                  D1\n",
       "1  13385                                 D15\n",
       "2  12432                                 D10\n",
       "3  11086           card1_addr1_P_emaildomain\n",
       "4  10094                      TransactionAmt\n",
       "5   9660                               card1\n",
       "6   9030  D11_card1_addr1_P_emaildomain_mean\n",
       "7   9003                         card1_addr1\n",
       "8   8908                       P_emaildomain\n",
       "9   8229                D11_card1_addr1_mean"
      ]
     },
     "execution_count": 155,
     "metadata": {},
     "output_type": "execute_result"
    }
   ],
   "source": [
    "feature_imp2.head(10)"
   ]
  },
  {
   "cell_type": "markdown",
   "metadata": {},
   "source": [
    "## Part D: Save Deliverables\n",
    "\n",
    "We will save the following deliverables:\n",
    "- Model [pkl format]\n",
    "- Predicted Probability of validation data (B) [dataframe format]\n",
    "- Feature Importance [dataframe format]\n",
    "- ROC curve [png]\n",
    "- Feature Importance [png]"
   ]
  },
  {
   "cell_type": "code",
   "execution_count": 156,
   "metadata": {},
   "outputs": [
    {
     "data": {
      "text/html": [
       "<div>\n",
       "<style scoped>\n",
       "    .dataframe tbody tr th:only-of-type {\n",
       "        vertical-align: middle;\n",
       "    }\n",
       "\n",
       "    .dataframe tbody tr th {\n",
       "        vertical-align: top;\n",
       "    }\n",
       "\n",
       "    .dataframe thead th {\n",
       "        text-align: right;\n",
       "    }\n",
       "</style>\n",
       "<table border=\"1\" class=\"dataframe\">\n",
       "  <thead>\n",
       "    <tr style=\"text-align: right;\">\n",
       "      <th></th>\n",
       "      <th>True Label</th>\n",
       "      <th>Predicted Label</th>\n",
       "    </tr>\n",
       "  </thead>\n",
       "  <tbody>\n",
       "    <tr>\n",
       "      <th>0</th>\n",
       "      <td>0</td>\n",
       "      <td>0.0</td>\n",
       "    </tr>\n",
       "    <tr>\n",
       "      <th>1</th>\n",
       "      <td>0</td>\n",
       "      <td>0.0</td>\n",
       "    </tr>\n",
       "    <tr>\n",
       "      <th>2</th>\n",
       "      <td>1</td>\n",
       "      <td>1.0</td>\n",
       "    </tr>\n",
       "    <tr>\n",
       "      <th>3</th>\n",
       "      <td>0</td>\n",
       "      <td>0.0</td>\n",
       "    </tr>\n",
       "    <tr>\n",
       "      <th>4</th>\n",
       "      <td>0</td>\n",
       "      <td>0.0</td>\n",
       "    </tr>\n",
       "  </tbody>\n",
       "</table>\n",
       "</div>"
      ],
      "text/plain": [
       "   True Label  Predicted Label\n",
       "0           0              0.0\n",
       "1           0              0.0\n",
       "2           1              1.0\n",
       "3           0              0.0\n",
       "4           0              0.0"
      ]
     },
     "execution_count": 156,
     "metadata": {},
     "output_type": "execute_result"
    }
   ],
   "source": [
    "# Save predicted data:\n",
    "# 1) Model// To load model: rf_tuned = joblib.load('TunedLGBMModel1.pkl') // joblib.load('TunedLGBMModel2.pkl')\n",
    "joblib.dump(x1_model, 'TunedLGBMModel1.pkl')\n",
    "joblib.dump(x2_model, 'TunedLGBMModel2.pkl')\n",
    "\n",
    "# 2) Dataframe data// To load data: feature_imp = pd.read_pickle(\"RF_feature_importance.pkl\")\n",
    "feature_imp1.to_pickle(\"LGBM_Model1_feature_importance.pkl\")\n",
    "feature_imp2.to_pickle(\"LGBM_Model2_feature_importance.pkl\")\n",
    "\n",
    "# 3) Numpy data// To load data: y_B_pred_prob = np.load('RF_y_B_pred_prob.npy') \n",
    "validation_results1 = pd.DataFrame(zip(y1_test, x1_y_pred), columns=['True Label','Predicted Label'])\n",
    "validation_results2 = pd.DataFrame(zip(y2_test, x2_y_pred), columns=['True Label','Predicted Label'])\n",
    "validation_results1.to_pickle(\"LGBM_Model1_validation_results.pkl\")\n",
    "validation_results2.to_pickle(\"LGBM_Model2_validation_results.pkl\")\n",
    "validation_results1.head()\n",
    "validation_results2.head()"
   ]
  },
  {
   "cell_type": "code",
   "execution_count": null,
   "metadata": {},
   "outputs": [],
   "source": []
  }
 ],
 "metadata": {
  "kernelspec": {
   "display_name": "Python 3",
   "language": "python",
   "name": "python3"
  },
  "language_info": {
   "codemirror_mode": {
    "name": "ipython",
    "version": 3
   },
   "file_extension": ".py",
   "mimetype": "text/x-python",
   "name": "python",
   "nbconvert_exporter": "python",
   "pygments_lexer": "ipython3",
   "version": "3.7.3"
  }
 },
 "nbformat": 4,
 "nbformat_minor": 4
}
