{
 "cells": [
  {
   "cell_type": "markdown",
   "metadata": {},
   "source": [
    "# XGBoost model"
   ]
  },
  {
   "cell_type": "markdown",
   "metadata": {},
   "source": [
    "##  Read cleaned data from pickle "
   ]
  },
  {
   "cell_type": "markdown",
   "metadata": {},
   "source": [
    "Preprocessing applied to all files:\n",
    "- Features with > 90% data missing or > 90% data with the same value were dropped\n",
    "- If possible, categorical variables with 100s of categories were mapped to coaser categoricals\n",
    "- Correlation plot analysis done on \"V\" columns and columns were dropped reduce collinearlity\n",
    "\t- https://www.kaggle.com/cdeotte/eda-for-columns-v-and-id\n",
    "- Some \"D\" columns were normalized for time\n",
    "- Aggregate features were added using \"magic\" technique\n",
    "\t- https://www.kaggle.com/cdeotte/xgb-fraud-with-magic-0-9600#How-the-Magic-Works\n",
    "- Dropped TransactionID and TransactionDT"
   ]
  },
  {
   "cell_type": "code",
   "execution_count": 61,
   "metadata": {},
   "outputs": [],
   "source": [
    "import pickle\n",
    "import glob\n",
    "import numpy as np \n",
    "import pandas as pd \n",
    "import matplotlib.pyplot as plt\n",
    "import seaborn as sns"
   ]
  },
  {
   "cell_type": "code",
   "execution_count": 2,
   "metadata": {},
   "outputs": [
    {
     "data": {
      "text/plain": [
       "['./data/clean_data/XGBoost_test_X_2.pkl',\n",
       " './data/clean_data/XGBoost_test_X_1.pkl',\n",
       " './data/clean_data/XGBoost_train_X_2.pkl',\n",
       " './data/clean_data/train_y.pkl',\n",
       " './data/clean_data/XGBoost_train_X_1.pkl',\n",
       " './data/clean_data/readmefirst.md']"
      ]
     },
     "execution_count": 2,
     "metadata": {},
     "output_type": "execute_result"
    }
   ],
   "source": [
    "glob.glob('./data/clean_data/*')"
   ]
  },
  {
   "cell_type": "code",
   "execution_count": 3,
   "metadata": {},
   "outputs": [],
   "source": [
    "'''X (version 1)\n",
    "- Full 200 features\n",
    "- Dummies created\n",
    "'''\n",
    "X_test_1 = pickle.load(open('./data/clean_data/XGBoost_test_X_1.pkl', 'rb'))\n",
    "X_train_1 = pickle.load(open('./data/clean_data/XGBoost_train_X_1.pkl', 'rb'))\n",
    "\n",
    "'''\n",
    "X (version 2)\n",
    "- Removed additional features\n",
    "    - Highly correlated \"C\", \"D\" features\n",
    "    - Removed features Chris (1st place winners) removed\n",
    "    - Removed caterogical features withh 200+ categories even after 1)\n",
    "- Dummies created\n",
    "'''\n",
    "X_test_2 = pickle.load(open('./data/clean_data/XGBoost_test_X_2.pkl', 'rb'))\n",
    "X_train_2 = pickle.load(open('./data/clean_data/XGBoost_train_X_2.pkl', 'rb'))\n",
    "\n",
    "y = pickle.load(open('./data/clean_data/train_y.pkl', 'rb'))"
   ]
  },
  {
   "cell_type": "code",
   "execution_count": 4,
   "metadata": {},
   "outputs": [
    {
     "data": {
      "text/plain": [
       "((590540, 1323), (590540, 1303), (506691, 1573), (506691, 1553), (590540,))"
      ]
     },
     "execution_count": 4,
     "metadata": {},
     "output_type": "execute_result"
    }
   ],
   "source": [
    "X_train_1.shape, X_train_2.shape, X_test_1.shape, X_test_2.shape, y.shape"
   ]
  },
  {
   "cell_type": "markdown",
   "metadata": {},
   "source": [
    "## Develop a base XGB model"
   ]
  },
  {
   "cell_type": "code",
   "execution_count": 5,
   "metadata": {},
   "outputs": [
    {
     "name": "stdout",
     "output_type": "stream",
     "text": [
      "Requirement already satisfied: xgboost in /opt/anaconda3/lib/python3.7/site-packages (1.0.2)\n",
      "Requirement already satisfied: scipy in /opt/anaconda3/lib/python3.7/site-packages (from xgboost) (1.4.1)\n",
      "Requirement already satisfied: numpy in /opt/anaconda3/lib/python3.7/site-packages (from xgboost) (1.18.1)\n"
     ]
    }
   ],
   "source": [
    "!pip install xgboost"
   ]
  },
  {
   "cell_type": "code",
   "execution_count": 6,
   "metadata": {},
   "outputs": [],
   "source": [
    "from sklearn.model_selection import train_test_split, cross_validate,\\\n",
    "KFold, TimeSeriesSplit\n",
    "from sklearn.metrics import accuracy_score, roc_auc_score, roc_curve\n",
    "import xgboost as xgb\n",
    "from sklearn.metrics import make_scorer"
   ]
  },
  {
   "cell_type": "markdown",
   "metadata": {},
   "source": [
    "#### Since xgboost takes a considerable amount of time to run on non-GPU device, the following is a train-test split setup to assist with early stage coding/ debugging."
   ]
  },
  {
   "cell_type": "code",
   "execution_count": 50,
   "metadata": {},
   "outputs": [
    {
     "name": "stdout",
     "output_type": "stream",
     "text": [
      "CPU times: user 3.63 s, sys: 2.5 s, total: 6.13 s\n",
      "Wall time: 7.11 s\n"
     ]
    }
   ],
   "source": [
    "%%time\n",
    "seed = 123\n",
    "test_size = 0.3\n",
    "X_train, X_val, y_train, y_val = train_test_split(X_train_1, y, test_size = test_size, random_state = seed)"
   ]
  },
  {
   "cell_type": "code",
   "execution_count": 51,
   "metadata": {},
   "outputs": [
    {
     "name": "stdout",
     "output_type": "stream",
     "text": [
      "basic model is fitted\n"
     ]
    }
   ],
   "source": [
    "%%time\n",
    "base_x1_model = xgb.XGBClassifier(eval_metric='auc', tree_method='hist')\n",
    "base_x1_model.fit(X_train, y_train)\n",
    "print(\"basic model is fitted\")"
   ]
  },
  {
   "cell_type": "code",
   "execution_count": 56,
   "metadata": {},
   "outputs": [
    {
     "name": "stdout",
     "output_type": "stream",
     "text": [
      "ROC_AUC score: 95.32%\n",
      "CPU times: user 8.12 s, sys: 2.78 s, total: 10.9 s\n",
      "Wall time: 11.1 s\n"
     ]
    }
   ],
   "source": [
    "%%time\n",
    "base_x1_y_pred = base_x1_model.predict_proba(X_val)[:, 1]\n",
    "auc_score = roc_auc_score(y_val, base_x1_y_pred)\n",
    "print(f\"ROC_AUC score: {auc_score* 100:.2f}%\")\n",
    "base_x1_frp, base_x1_tpr, _ = roc_curve(y_val, base_x1_y_pred)"
   ]
  },
  {
   "cell_type": "code",
   "execution_count": 59,
   "metadata": {},
   "outputs": [
    {
     "data": {
      "image/png": "[encoded data removed]",
      "text/plain": [
       "<Figure size 720x576 with 1 Axes>"
      ]
     },
     "metadata": {
      "needs_background": "light"
     },
     "output_type": "display_data"
    }
   ],
   "source": [
    "# Define true-positive and false-positive for no skill predictions\n",
    "no_skill_pred = [0 for _ in range(len(y_val))]\n",
    "ns_frp, ns_tpr, _ = roc_curve(y_val, no_skill_pred)\n",
    "\n",
    "# Plot ROC curve across models\n",
    "plt.figure(figsize=(10, 8))\n",
    "plt.plot(ns_frp, ns_tpr, linestyle = '--', label='No Skill')\n",
    "plt.plot(base_x1_frp, base_x1_tpr, marker = '.', label='Default XGB Model')\n",
    "plt.title('ROC Curve')\n",
    "plt.xlabel('False Positive Rate')\n",
    "plt.ylabel('True Positive Rate')\n",
    "plt.legend()\n",
    "plt.show()"
   ]
  },
  {
   "cell_type": "code",
   "execution_count": 62,
   "metadata": {},
   "outputs": [
    {
     "data": {
      "image/png": "[encoded data removed]",
      "text/plain": [
       "<Figure size 1080x576 with 1 Axes>"
      ]
     },
     "metadata": {
      "needs_background": "light"
     },
     "output_type": "display_data"
    },
    {
     "name": "stdout",
     "output_type": "stream",
     "text": [
      "CPU times: user 245 ms, sys: 7.69 ms, total: 253 ms\n",
      "Wall time: 259 ms\n"
     ]
    }
   ],
   "source": [
    "%%time\n",
    "# Understand feature importance in the model\n",
    "feature_imp = pd.DataFrame(sorted(zip(base_x1_model.feature_importances_,X_train_1.columns)), columns=['Value','Feature'])\n",
    "plt.figure(figsize=(15, 8))\n",
    "sns.barplot(x=\"Value\", y=\"Feature\", data=feature_imp.sort_values(by=\"Value\", ascending=False).iloc[:10],\\\n",
    "            palette = \"Blues_d\")\n",
    "plt.title('XGB Tuned Model- Feature Importance')\n",
    "plt.tight_layout()\n",
    "plt.show()"
   ]
  },
  {
   "cell_type": "markdown",
   "metadata": {},
   "source": [
    "## Hyperparameter Tuning"
   ]
  },
  {
   "cell_type": "markdown",
   "metadata": {},
   "source": [
    "### Define Scikit Optimizer function"
   ]
  },
  {
   "cell_type": "code",
   "execution_count": 14,
   "metadata": {},
   "outputs": [],
   "source": [
    "from skopt import BayesSearchCV\n",
    "from skopt.space import Real, Categorical, Integer\n",
    "from sklearn.model_selection import StratifiedKFold"
   ]
  },
  {
   "cell_type": "code",
   "execution_count": 18,
   "metadata": {},
   "outputs": [],
   "source": [
    "seed = 123\n",
    "test_size = 0.3\n",
    "X_train, X_val, y_train, y_val = train_test_split(X_train_1, y, test_size = test_size, random_state = seed)"
   ]
  },
  {
   "cell_type": "code",
   "execution_count": null,
   "metadata": {},
   "outputs": [],
   "source": []
  },
  {
   "cell_type": "code",
   "execution_count": 40,
   "metadata": {},
   "outputs": [],
   "source": [
    "# number of iterations to scan for \n",
    "iterations = 1000\n",
    "\n",
    "# define classifier\n",
    "estimator = xgb.XGBClassifier(\n",
    "        n_jobs = 1,\n",
    "        objective = 'binary:logistic',\n",
    "        eval_metric = 'auc',\n",
    "        silent=1,\n",
    "        tree_method='hist',\n",
    "        verbosity=1\n",
    "    )"
   ]
  },
  {
   "cell_type": "code",
   "execution_count": 48,
   "metadata": {},
   "outputs": [],
   "source": [
    "# define hyperparameter space\n",
    "search_spaces = {\n",
    "        'learning_rate': (0.01, 1.0, 'log-uniform'),\n",
    "        'min_child_weight': (0, 10),\n",
    "        'max_depth': (0, 50),\n",
    "        'max_delta_step': (0, 20),\n",
    "        'subsample': (0.01, 1.0, 'uniform'),\n",
    "        'colsample_bytree': (0.01, 1.0, 'uniform'),\n",
    "        'colsample_bylevel': (0.01, 1.0, 'uniform'),\n",
    "        'reg_lambda': (1e-9, 1000, 'log-uniform'),\n",
    "        'reg_alpha': (1e-9, 1.0, 'log-uniform'),\n",
    "        'gamma': (1e-9, 0.5, 'log-uniform'),\n",
    "        'min_child_weight': (0, 5),\n",
    "        'n_estimators': (50, 100),\n",
    "        'missing':[-1, -999, np.nan],\n",
    "        'scale_pos_weight': (1e-6, 500, 'log-uniform')\n",
    "    }"
   ]
  },
  {
   "cell_type": "code",
   "execution_count": 42,
   "metadata": {},
   "outputs": [],
   "source": [
    "# Set up k-fold cross validation\n",
    "cv = StratifiedKFold(\n",
    "        n_splits = 7,\n",
    "        shuffle = True,\n",
    "        random_state = seed\n",
    "    )"
   ]
  },
  {
   "cell_type": "code",
   "execution_count": 43,
   "metadata": {},
   "outputs": [],
   "source": [
    "xgb_tuner = BayesSearchCV(estimator = estimator, search_spaces = search_spaces, scoring = 'roc_auc',\\\n",
    "                          cv = cv, n_jobs = 3, n_iter = 5, verbose = 1, refit = True, random_state = seed)"
   ]
  },
  {
   "cell_type": "code",
   "execution_count": 44,
   "metadata": {},
   "outputs": [],
   "source": [
    "def status_print(optim_result):    \n",
    "    all_models = pd.DataFrame(xgb_tuner.cv_results_)    \n",
    "    \n",
    "    # Get best parameters    \n",
    "    best_params = pd.Series(xgb_tuner.best_params_)\n",
    "    print(f'Model {len(all_models)}:\\nBest ROC-AUC:\\\n",
    "    {np.round(xgb_tuner.best_score_, 4)}\\nBestparams:{xgb_tuner.best_params_}\\n')\n",
    "    \n",
    "    # Save to csv\n",
    "    clf_name = xgb_tuner.estimator.__class__.__name__\n",
    "    all_models.to_csv(clf_name+\"_cv_results.csv\")"
   ]
  },
  {
   "cell_type": "code",
   "execution_count": 45,
   "metadata": {},
   "outputs": [
    {
     "name": "stdout",
     "output_type": "stream",
     "text": [
      "Fitting 7 folds for each of 1 candidates, totalling 7 fits\n"
     ]
    },
    {
     "name": "stderr",
     "output_type": "stream",
     "text": [
      "[Parallel(n_jobs=3)]: Using backend LokyBackend with 3 concurrent workers.\n",
      "[Parallel(n_jobs=3)]: Done   7 out of   7 | elapsed:    3.4s finished\n",
      "[Parallel(n_jobs=3)]: Using backend LokyBackend with 3 concurrent workers.\n"
     ]
    },
    {
     "name": "stdout",
     "output_type": "stream",
     "text": [
      "Model 1:\n",
      "Best ROC-AUC:    0.9175\n",
      "Bestparams:OrderedDict([('colsample_bylevel', 0.8601068320616704), ('colsample_bytree', 0.37394762512094704), ('gamma', 5.766274493519536e-09), ('learning_rate', 0.08451370797574267), ('max_delta_step', 13), ('max_depth', 7), ('min_child_weight', 2), ('n_estimators', 88), ('reg_alpha', 1.3321574348548206e-08), ('reg_lambda', 709), ('scale_pos_weight', 11), ('subsample', 0.3579189989466403)])\n",
      "\n",
      "Fitting 7 folds for each of 1 candidates, totalling 7 fits\n"
     ]
    },
    {
     "name": "stderr",
     "output_type": "stream",
     "text": [
      "[Parallel(n_jobs=3)]: Done   7 out of   7 | elapsed:    2.5s finished\n",
      "[Parallel(n_jobs=3)]: Using backend LokyBackend with 3 concurrent workers.\n"
     ]
    },
    {
     "name": "stdout",
     "output_type": "stream",
     "text": [
      "Model 2:\n",
      "Best ROC-AUC:    0.9175\n",
      "Bestparams:OrderedDict([('colsample_bylevel', 0.8601068320616704), ('colsample_bytree', 0.37394762512094704), ('gamma', 5.766274493519536e-09), ('learning_rate', 0.08451370797574267), ('max_delta_step', 13), ('max_depth', 7), ('min_child_weight', 2), ('n_estimators', 88), ('reg_alpha', 1.3321574348548206e-08), ('reg_lambda', 709), ('scale_pos_weight', 11), ('subsample', 0.3579189989466403)])\n",
      "\n",
      "Fitting 7 folds for each of 1 candidates, totalling 7 fits\n"
     ]
    },
    {
     "name": "stderr",
     "output_type": "stream",
     "text": [
      "[Parallel(n_jobs=3)]: Done   7 out of   7 | elapsed:    1.5s finished\n",
      "[Parallel(n_jobs=3)]: Using backend LokyBackend with 3 concurrent workers.\n"
     ]
    },
    {
     "name": "stdout",
     "output_type": "stream",
     "text": [
      "Model 3:\n",
      "Best ROC-AUC:    0.9175\n",
      "Bestparams:OrderedDict([('colsample_bylevel', 0.8601068320616704), ('colsample_bytree', 0.37394762512094704), ('gamma', 5.766274493519536e-09), ('learning_rate', 0.08451370797574267), ('max_delta_step', 13), ('max_depth', 7), ('min_child_weight', 2), ('n_estimators', 88), ('reg_alpha', 1.3321574348548206e-08), ('reg_lambda', 709), ('scale_pos_weight', 11), ('subsample', 0.3579189989466403)])\n",
      "\n",
      "Fitting 7 folds for each of 1 candidates, totalling 7 fits\n"
     ]
    },
    {
     "name": "stderr",
     "output_type": "stream",
     "text": [
      "[Parallel(n_jobs=3)]: Done   7 out of   7 | elapsed:    2.4s finished\n",
      "[Parallel(n_jobs=3)]: Using backend LokyBackend with 3 concurrent workers.\n"
     ]
    },
    {
     "name": "stdout",
     "output_type": "stream",
     "text": [
      "Model 4:\n",
      "Best ROC-AUC:    0.9401\n",
      "Bestparams:OrderedDict([('colsample_bylevel', 0.5669887687579028), ('colsample_bytree', 0.36056343563755416), ('gamma', 4.23064461837971e-06), ('learning_rate', 0.1891190433552772), ('max_delta_step', 12), ('max_depth', 18), ('min_child_weight', 1), ('n_estimators', 78), ('reg_alpha', 8.115529158908541e-07), ('reg_lambda', 428), ('scale_pos_weight', 462), ('subsample', 0.4504645309614836)])\n",
      "\n",
      "Fitting 7 folds for each of 1 candidates, totalling 7 fits\n"
     ]
    },
    {
     "name": "stderr",
     "output_type": "stream",
     "text": [
      "[Parallel(n_jobs=3)]: Done   7 out of   7 | elapsed:    2.4s finished\n"
     ]
    },
    {
     "name": "stdout",
     "output_type": "stream",
     "text": [
      "Model 5:\n",
      "Best ROC-AUC:    0.9443\n",
      "Bestparams:OrderedDict([('colsample_bylevel', 0.33755907021465986), ('colsample_bytree', 0.458767887305581), ('gamma', 4.6269888025095605e-09), ('learning_rate', 0.22140744149384733), ('max_delta_step', 10), ('max_depth', 23), ('min_child_weight', 1), ('n_estimators', 76), ('reg_alpha', 1.1205408627508122e-07), ('reg_lambda', 834), ('scale_pos_weight', 317), ('subsample', 0.550733225627066)])\n",
      "\n"
     ]
    }
   ],
   "source": [
    "result = xgb_tuner.fit(X_sample.values, y_sample.values, callback = status_print)"
   ]
  },
  {
   "cell_type": "code",
   "execution_count": null,
   "metadata": {},
   "outputs": [],
   "source": []
  },
  {
   "cell_type": "code",
   "execution_count": 47,
   "metadata": {},
   "outputs": [
    {
     "data": {
      "text/plain": [
       "\"\\nxgb.XGBClassifier(n_estimators=2000,\\nmax_depth=12, \\nlearning_rate=0.02, \\nsubsample=0.8,\\ncolsample_bytree=0.4, \\nmissing=-1, \\neval_metric='auc',\\ntree_method='hist')\\nmodel.fit(X_train, y_train)\\n\""
      ]
     },
     "execution_count": 47,
     "metadata": {},
     "output_type": "execute_result"
    }
   ],
   "source": [
    "'''\n",
    "xgb.XGBClassifier(n_estimators=2000,\n",
    "max_depth=12, \n",
    "learning_rate=0.02, \n",
    "subsample=0.8,\n",
    "colsample_bytree=0.4, \n",
    "missing=-1, \n",
    "eval_metric='auc',\n",
    "tree_method='hist')\n",
    "model.fit(X_train, y_train)\n",
    "'''"
   ]
  },
  {
   "cell_type": "code",
   "execution_count": null,
   "metadata": {},
   "outputs": [],
   "source": [
    "y_pred = model4.predict_proba(X_val)[:, 1]\n",
    "auc_score = roc_auc_score(y_val, y_pred)\n",
    "print(f\"ROC_AUC score: {auc_score* 100:.2f}%\")"
   ]
  },
  {
   "cell_type": "markdown",
   "metadata": {},
   "source": [
    "## Understanding the models"
   ]
  },
  {
   "cell_type": "code",
   "execution_count": null,
   "metadata": {},
   "outputs": [],
   "source": [
    "# Plot ROC curve across models\n",
    "\n",
    "# Define true-positive and false-positive for no skill predictions\n",
    "no_skill_pred = [0 for _ in range(len(y_val))]\n",
    "ns_frp, ns_tpr, _ = roc_curve(y_val, no_skill_pred)\n",
    "\n",
    "# Update\n",
    "m4_frp, m4_tpr, _ = roc_curve(y_val, y_pred)\n",
    "\n",
    "plt.figure(figsize=(15, 10))\n",
    "plt.plot(ns_frp, ns_tpr, linestyle = '--', label='No Skill')\n",
    "# Update\n",
    "plt.plot(m1_frp, m1_tpr, marker = '.', label='Default XGB Model')\n",
    "plt.plot(m2_frp, m2_tpr, marker = '.', label='Tuned XGB Model')\n",
    "plt.title('ROC Curve')\n",
    "plt.xlabel('False Positive Rate')\n",
    "plt.ylabel('True Positive Rate')\n",
    "plt.legend()\n",
    "plt.show()"
   ]
  },
  {
   "cell_type": "code",
   "execution_count": null,
   "metadata": {},
   "outputs": [],
   "source": [
    "%%time\n",
    "# Understand feature importance in the best model\n",
    "feature_imp = pd.DataFrame(sorted(zip(model3.feature_importances_,X_train_2.columns)), columns=['Value','Feature'])\n",
    "plt.figure(figsize=(20, 40))\n",
    "sns.barplot(x=\"Value\", y=\"Feature\", data=feature_imp.sort_values(by=\"Value\", ascending=False).iloc[:50],\\\n",
    "            palette = \"Blues_d\")\n",
    "plt.title('XGB Tuned Model- Feature Importance')\n",
    "plt.tight_layout()\n",
    "plt.show()"
   ]
  },
  {
   "cell_type": "markdown",
   "metadata": {},
   "source": [
    "## Predict fraud probabilities on test set and export to csv for Kaggle submission"
   ]
  },
  {
   "cell_type": "code",
   "execution_count": null,
   "metadata": {},
   "outputs": [],
   "source": [
    "sample_submission['isFraud'] = model2.predict_proba(X_test)[:,1]\n",
    "sample_submission.to_csv('simple_xgboost.csv')"
   ]
  }
 ],
 "metadata": {
  "kernelspec": {
   "display_name": "Python 3",
   "language": "python",
   "name": "python3"
  },
  "language_info": {
   "codemirror_mode": {
    "name": "ipython",
    "version": 3
   },
   "file_extension": ".py",
   "mimetype": "text/x-python",
   "name": "python",
   "nbconvert_exporter": "python",
   "pygments_lexer": "ipython3",
   "version": "3.7.6"
  }
 },
 "nbformat": 4,
 "nbformat_minor": 4
}
